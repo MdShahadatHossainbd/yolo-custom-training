{
  "nbformat": 4,
  "nbformat_minor": 0,
  "metadata": {
    "colab": {
      "name": "YOLOv4 Custom Data TrainingEx.ipynb",
      "provenance": [],
      "include_colab_link": true
    },
    "kernelspec": {
      "name": "python3",
      "display_name": "Python 3"
    },
    "accelerator": "GPU"
  },
  "cells": [
    {
      "cell_type": "markdown",
      "metadata": {
        "id": "view-in-github",
        "colab_type": "text"
      },
      "source": [
        "<a href=\"https://colab.research.google.com/github/MdShahadatHossainbd/yolo-custom-training/blob/main/YOLOv4_Custom_Data_TrainingEx.ipynb\" target=\"_parent\"><img src=\"https://colab.research.google.com/assets/colab-badge.svg\" alt=\"Open In Colab\"/></a>"
      ]
    },
    {
      "cell_type": "code",
      "metadata": {
        "id": "Zf4w1jjr4sjY",
        "outputId": "8f12a93c-9ebc-4395-8ed4-7383825a0be2",
        "colab": {
          "base_uri": "https://localhost:8080/"
        }
      },
      "source": [
        "from google.colab import drive\n",
        "drive.mount('/content/drive')"
      ],
      "execution_count": null,
      "outputs": [
        {
          "output_type": "stream",
          "text": [
            "Drive already mounted at /content/drive; to attempt to forcibly remount, call drive.mount(\"/content/drive\", force_remount=True).\n"
          ],
          "name": "stdout"
        }
      ]
    },
    {
      "cell_type": "code",
      "metadata": {
        "id": "K4mlt-zS5WjR",
        "outputId": "e0d137e6-7601-4124-ff68-bef9485a435b",
        "colab": {
          "base_uri": "https://localhost:8080/"
        }
      },
      "source": [
        "!ls '/content/drive/My Drive/yolo_custom_model_training'"
      ],
      "execution_count": null,
      "outputs": [
        {
          "output_type": "stream",
          "text": [
            "backup\tcustom_data  custom_data.zip  custom_weight  darknet\n"
          ],
          "name": "stdout"
        }
      ]
    },
    {
      "cell_type": "code",
      "metadata": {
        "id": "sULJm-g55igj"
      },
      "source": [
        "#!unzip '/content/drive/My Drive/yolo_custom_model_training/custom_data.zip' -d '/content/drive/My Drive/yolo_custom_model_training'"
      ],
      "execution_count": null,
      "outputs": []
    },
    {
      "cell_type": "code",
      "metadata": {
        "id": "xIJ-6HXM51iK"
      },
      "source": [
        "#!git clone 'https://github.com/pjreddie/darknet.git' '/content/drive/My Drive/yolo_custom_model_training/darknet'"
      ],
      "execution_count": null,
      "outputs": []
    },
    {
      "cell_type": "code",
      "metadata": {
        "id": "0xQz5ahu6rUH",
        "outputId": "cde39a49-ba47-46b1-cfba-a4ba33adb461",
        "colab": {
          "base_uri": "https://localhost:8080/"
        }
      },
      "source": [
        "%cd /content/drive/My Drive/yolo_custom_model_training/darknet"
      ],
      "execution_count": null,
      "outputs": [
        {
          "output_type": "stream",
          "text": [
            "/content/drive/.shortcut-targets-by-id/1gbmbu8tlcrj_NkDmx0dtY4oTOp6j7KBK/yolo_custom_model_training/darknet\n"
          ],
          "name": "stdout"
        }
      ]
    },
    {
      "cell_type": "code",
      "metadata": {
        "id": "wo7qWrxbl-oK",
        "outputId": "759168b9-8017-404d-c090-f803f124e7e4",
        "colab": {
          "base_uri": "https://localhost:8080/"
        }
      },
      "source": [
        "!ls"
      ],
      "execution_count": null,
      "outputs": [
        {
          "output_type": "stream",
          "text": [
            "backup\t examples\tLICENSE       LICENSE.meta  obj        scripts\n",
            "cfg\t include\tLICENSE.fuck  LICENSE.mit   python     src\n",
            "darknet  libdarknet.a\tLICENSE.gen   LICENSE.v1    README.md\n",
            "data\t libdarknet.so\tLICENSE.gpl   Makefile\t    results\n"
          ],
          "name": "stdout"
        }
      ]
    },
    {
      "cell_type": "code",
      "metadata": {
        "id": "VnxG2E136wZg",
        "outputId": "0c3df786-71de-4805-a1c2-68bfead1a9a7",
        "colab": {
          "base_uri": "https://localhost:8080/"
        }
      },
      "source": [
        "!make"
      ],
      "execution_count": null,
      "outputs": [
        {
          "output_type": "stream",
          "text": [
            "make: Nothing to be done for 'all'.\n"
          ],
          "name": "stdout"
        }
      ]
    },
    {
      "cell_type": "code",
      "metadata": {
        "id": "sBxOYybl7jd-",
        "outputId": "b125d8ff-ea8d-43e9-99b1-dc11f3280834",
        "colab": {
          "base_uri": "https://localhost:8080/"
        }
      },
      "source": [
        "%cd /content/drive/My Drive/yolo_custom_model_training"
      ],
      "execution_count": null,
      "outputs": [
        {
          "output_type": "stream",
          "text": [
            "/content/drive/.shortcut-targets-by-id/1gbmbu8tlcrj_NkDmx0dtY4oTOp6j7KBK/yolo_custom_model_training\n"
          ],
          "name": "stdout"
        }
      ]
    },
    {
      "cell_type": "code",
      "metadata": {
        "id": "F8Tqac1J89kW",
        "outputId": "145eeb8d-c262-4821-d6d4-f3642e64a3ac",
        "colab": {
          "base_uri": "https://localhost:8080/"
        }
      },
      "source": [
        "! python custom_data/creating-files-data-and-name.py"
      ],
      "execution_count": null,
      "outputs": [
        {
          "output_type": "stream",
          "text": [
            "Traceback (most recent call last):\n",
            "  File \"custom_data/creating-files-data-and-name.py\", line 57, in <module>\n",
            "    with open(full_path_to_images + '/' + 'classes.names', 'w') as names, \\\n",
            "PermissionError: [Errno 1] Operation not permitted: 'custom_data/classes.names'\n"
          ],
          "name": "stdout"
        }
      ]
    },
    {
      "cell_type": "code",
      "metadata": {
        "id": "V_Z3u75G9Ant",
        "outputId": "1fc08742-c6cd-4e04-e1fa-2c47c04f298e",
        "colab": {
          "base_uri": "https://localhost:8080/"
        }
      },
      "source": [
        "! python custom_data/creating-train-and-test-txt-files.py"
      ],
      "execution_count": null,
      "outputs": [
        {
          "output_type": "stream",
          "text": [
            "Traceback (most recent call last):\n",
            "  File \"custom_data/creating-train-and-test-txt-files.py\", line 108, in <module>\n",
            "    with open('train.txt', 'w') as train_txt:\n",
            "PermissionError: [Errno 1] Operation not permitted: 'train.txt'\n"
          ],
          "name": "stdout"
        }
      ]
    },
    {
      "cell_type": "code",
      "metadata": {
        "id": "ccpIT1G9qnto",
        "outputId": "3d7e33f2-ab38-47bb-dafd-a13fddabbace",
        "colab": {
          "base_uri": "https://localhost:8080/"
        }
      },
      "source": [
        "!darknet/darknet detector train custom_data/labelled_data.data darknet/cfg/yolov3_custom.cfg custom_weight/darknet53.conv.74 -dont_show"
      ],
      "execution_count": null,
      "outputs": [
        {
          "output_type": "stream",
          "text": [
            "/bin/bash: darknet/darknet: Permission denied\n"
          ],
          "name": "stdout"
        }
      ]
    },
    {
      "cell_type": "code",
      "metadata": {
        "id": "tieLWb2iAJF6",
        "outputId": "47c49492-0f97-46ce-9ddc-8d08eacfa9b7",
        "colab": {
          "base_uri": "https://localhost:8080/"
        }
      },
      "source": [
        "!darknet/darknet"
      ],
      "execution_count": null,
      "outputs": [
        {
          "output_type": "stream",
          "text": [
            "/bin/bash: darknet/darknet: Permission denied\n"
          ],
          "name": "stdout"
        }
      ]
    }
  ]
}